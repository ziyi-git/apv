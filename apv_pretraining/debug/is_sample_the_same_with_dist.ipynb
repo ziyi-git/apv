{
 "cells": [
  {
   "cell_type": "markdown",
   "metadata": {},
   "source": [
    "## 对一个分布采样500000次，看sample的出现概率是否和分布一致"
   ]
  },
  {
   "cell_type": "code",
   "execution_count": 11,
   "metadata": {},
   "outputs": [
    {
     "name": "stdout",
     "output_type": "stream",
     "text": [
      "{0: 0.026972312, 1: 0.027018206, 2: 0.032575972, 3: 0.026438225, 4: 0.029658861, 5: 0.02865881, 6: 0.032154225, 7: 0.031108806, 8: 0.038157064, 9: 0.028451785, 10: 0.03373348, 11: 0.033998314, 12: 0.04050441, 13: 0.03164091, 14: 0.033090323, 15: 0.030087532, 16: 0.03033921, 17: 0.029344669, 18: 0.03595294, 19: 0.041405383, 20: 0.023632215, 21: 0.03817615, 22: 0.030647188, 23: 0.030033423, 24: 0.025782883, 25: 0.022753313, 26: 0.028585823, 27: 0.026356395, 28: 0.03496022, 29: 0.034726772, 30: 0.02889911, 31: 0.034155067}\n",
      "max: 19\n",
      "{0: 0.026658, 1: 0.026754, 2: 0.032448, 3: 0.02658, 4: 0.029684, 5: 0.028434, 6: 0.031848, 7: 0.030924, 8: 0.037796, 9: 0.028404, 10: 0.033832, 11: 0.033922, 12: 0.040864, 13: 0.031754, 14: 0.03291, 15: 0.03034, 16: 0.03057, 17: 0.029634, 18: 0.036666, 19: 0.041652, 20: 0.023712, 21: 0.03796, 22: 0.030594, 23: 0.029936, 24: 0.025554, 25: 0.022624, 26: 0.028632, 27: 0.02636, 28: 0.035018, 29: 0.035026, 30: 0.028866, 31: 0.034044}\n",
      "max: 19\n"
     ]
    }
   ],
   "source": [
    "from tensorflow_probability import distributions as tfd\n",
    "import numpy as np\n",
    "import tensorflow as tf\n",
    "\n",
    "# 在debug过程中产生的一组logit\n",
    "logit = [-0.1732, -0.1715, 0.015564, -0.1932, -0.07825, -0.11255, 0.002533, -0.03052, 0.1737, -0.1198, 0.05048, 0.0583, 0.2334, -0.01356, 0.03123, -0.0639, -0.05557, -0.0889, 0.1142, 0.2554, -0.3054, 0.1742, -0.04547, -0.0657, -0.2183, -0.3433, -0.1151, -0.1963, 0.0862, 0.0795, -0.1042, 0.0629]\n",
    "\n",
    "# 产生一个OneHotCategorical\n",
    "dist = tfd.OneHotCategorical(logits=logit)\n",
    "probs = dist.probs_parameter().numpy()\n",
    "print({i: v for (i, v) in enumerate(probs)})\n",
    "print(f\"max: {tf.argmax(dist.probs_parameter()).numpy()}\")\n",
    "\n",
    "# 在dist中采样1000次，查看是否满足分布\n",
    "samples = []\n",
    "for i in range(500000):\n",
    "    sample = dist.sample()\n",
    "    samples.append(tf.argmax(sample).numpy())\n",
    "\n",
    "unique_elements, counts = np.unique(samples, return_counts=True)\n",
    "total_count = len(samples)\n",
    "element_probabilities = counts / total_count\n",
    "element_probabilities_dict = dict(zip(unique_elements, element_probabilities))\n",
    "print(element_probabilities_dict)\n",
    "print(f\"max: {counts.argmax()}\")"
   ]
  },
  {
   "cell_type": "code",
   "execution_count": 9,
   "metadata": {},
   "outputs": [
    {
     "name": "stdout",
     "output_type": "stream",
     "text": [
      "19\n"
     ]
    }
   ],
   "source": [
    "print(counts.argmax())"
   ]
  },
  {
   "cell_type": "code",
   "execution_count": null,
   "metadata": {},
   "outputs": [],
   "source": []
  }
 ],
 "metadata": {
  "kernelspec": {
   "display_name": "env_apv",
   "language": "python",
   "name": "python3"
  },
  "language_info": {
   "codemirror_mode": {
    "name": "ipython",
    "version": 3
   },
   "file_extension": ".py",
   "mimetype": "text/x-python",
   "name": "python",
   "nbconvert_exporter": "python",
   "pygments_lexer": "ipython3",
   "version": "3.9.17"
  },
  "orig_nbformat": 4
 },
 "nbformat": 4,
 "nbformat_minor": 2
}
